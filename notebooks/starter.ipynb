{
 "cells": [
  {
   "cell_type": "code",
   "execution_count": 1,
   "metadata": {},
   "outputs": [],
   "source": [
    "import os\n",
    "os.chdir('../')"
   ]
  },
  {
   "cell_type": "code",
   "execution_count": 2,
   "metadata": {},
   "outputs": [],
   "source": [
    "import datetime\n",
    "\n",
    "import pandas as pd\n",
    "import numpy as np\n",
    "import cv2\n",
    "import matplotlib.pyplot as plt\n",
    "\n",
    "import torch\n",
    "from torch.nn.modules.loss import _WeightedLoss\n",
    "\n",
    "\n",
    "from src.configs import cfg\n",
    "pd.options.display.max_rows = 1000"
   ]
  },
  {
   "cell_type": "code",
   "execution_count": 3,
   "metadata": {},
   "outputs": [],
   "source": [
    "train = pd.read_csv(\n",
    "    cfg.INPUT.ROOT_DIR+'/train_folds.csv'\n",
    ")"
   ]
  },
  {
   "cell_type": "code",
   "execution_count": 4,
   "metadata": {},
   "outputs": [
    {
     "data": {
      "text/html": [
       "<div>\n",
       "<style scoped>\n",
       "    .dataframe tbody tr th:only-of-type {\n",
       "        vertical-align: middle;\n",
       "    }\n",
       "\n",
       "    .dataframe tbody tr th {\n",
       "        vertical-align: top;\n",
       "    }\n",
       "\n",
       "    .dataframe thead th {\n",
       "        text-align: right;\n",
       "    }\n",
       "</style>\n",
       "<table border=\"1\" class=\"dataframe\">\n",
       "  <thead>\n",
       "    <tr style=\"text-align: right;\">\n",
       "      <th></th>\n",
       "      <th>Unnamed: 0</th>\n",
       "      <th>site_id</th>\n",
       "      <th>patient_id</th>\n",
       "      <th>image_id</th>\n",
       "      <th>laterality</th>\n",
       "      <th>view</th>\n",
       "      <th>age</th>\n",
       "      <th>cancer</th>\n",
       "      <th>biopsy</th>\n",
       "      <th>invasive</th>\n",
       "      <th>BIRADS</th>\n",
       "      <th>implant</th>\n",
       "      <th>density</th>\n",
       "      <th>machine_id</th>\n",
       "      <th>difficult_negative_case</th>\n",
       "      <th>fold</th>\n",
       "    </tr>\n",
       "  </thead>\n",
       "  <tbody>\n",
       "    <tr>\n",
       "      <th>37282</th>\n",
       "      <td>37282</td>\n",
       "      <td>2</td>\n",
       "      <td>5</td>\n",
       "      <td>640805896</td>\n",
       "      <td>L</td>\n",
       "      <td>MLO</td>\n",
       "      <td>68.0</td>\n",
       "      <td>0</td>\n",
       "      <td>0</td>\n",
       "      <td>0</td>\n",
       "      <td>0.0</td>\n",
       "      <td>0</td>\n",
       "      <td>NaN</td>\n",
       "      <td>21</td>\n",
       "      <td>True</td>\n",
       "      <td>4</td>\n",
       "    </tr>\n",
       "    <tr>\n",
       "      <th>37283</th>\n",
       "      <td>37283</td>\n",
       "      <td>2</td>\n",
       "      <td>5</td>\n",
       "      <td>1351088028</td>\n",
       "      <td>L</td>\n",
       "      <td>CC</td>\n",
       "      <td>68.0</td>\n",
       "      <td>0</td>\n",
       "      <td>0</td>\n",
       "      <td>0</td>\n",
       "      <td>0.0</td>\n",
       "      <td>0</td>\n",
       "      <td>NaN</td>\n",
       "      <td>21</td>\n",
       "      <td>True</td>\n",
       "      <td>3</td>\n",
       "    </tr>\n",
       "    <tr>\n",
       "      <th>37284</th>\n",
       "      <td>37284</td>\n",
       "      <td>2</td>\n",
       "      <td>5</td>\n",
       "      <td>940388076</td>\n",
       "      <td>R</td>\n",
       "      <td>CC</td>\n",
       "      <td>68.0</td>\n",
       "      <td>0</td>\n",
       "      <td>0</td>\n",
       "      <td>0</td>\n",
       "      <td>NaN</td>\n",
       "      <td>0</td>\n",
       "      <td>NaN</td>\n",
       "      <td>21</td>\n",
       "      <td>False</td>\n",
       "      <td>3</td>\n",
       "    </tr>\n",
       "    <tr>\n",
       "      <th>37285</th>\n",
       "      <td>37285</td>\n",
       "      <td>2</td>\n",
       "      <td>5</td>\n",
       "      <td>1633417959</td>\n",
       "      <td>R</td>\n",
       "      <td>MLO</td>\n",
       "      <td>68.0</td>\n",
       "      <td>0</td>\n",
       "      <td>0</td>\n",
       "      <td>0</td>\n",
       "      <td>NaN</td>\n",
       "      <td>0</td>\n",
       "      <td>NaN</td>\n",
       "      <td>21</td>\n",
       "      <td>False</td>\n",
       "      <td>4</td>\n",
       "    </tr>\n",
       "  </tbody>\n",
       "</table>\n",
       "</div>"
      ],
      "text/plain": [
       "       Unnamed: 0  site_id  patient_id    image_id laterality view   age  \\\n",
       "37282       37282        2           5   640805896          L  MLO  68.0   \n",
       "37283       37283        2           5  1351088028          L   CC  68.0   \n",
       "37284       37284        2           5   940388076          R   CC  68.0   \n",
       "37285       37285        2           5  1633417959          R  MLO  68.0   \n",
       "\n",
       "       cancer  biopsy  invasive  BIRADS  implant density  machine_id  \\\n",
       "37282       0       0         0     0.0        0     NaN          21   \n",
       "37283       0       0         0     0.0        0     NaN          21   \n",
       "37284       0       0         0     NaN        0     NaN          21   \n",
       "37285       0       0         0     NaN        0     NaN          21   \n",
       "\n",
       "       difficult_negative_case  fold  \n",
       "37282                     True     4  \n",
       "37283                     True     3  \n",
       "37284                    False     3  \n",
       "37285                    False     4  "
      ]
     },
     "execution_count": 4,
     "metadata": {},
     "output_type": "execute_result"
    }
   ],
   "source": [
    "train[train['patient_id'] == 5]"
   ]
  },
  {
   "cell_type": "code",
   "execution_count": 5,
   "metadata": {},
   "outputs": [
    {
     "data": {
      "text/html": [
       "<div>\n",
       "<style scoped>\n",
       "    .dataframe tbody tr th:only-of-type {\n",
       "        vertical-align: middle;\n",
       "    }\n",
       "\n",
       "    .dataframe tbody tr th {\n",
       "        vertical-align: top;\n",
       "    }\n",
       "\n",
       "    .dataframe thead th {\n",
       "        text-align: right;\n",
       "    }\n",
       "</style>\n",
       "<table border=\"1\" class=\"dataframe\">\n",
       "  <thead>\n",
       "    <tr style=\"text-align: right;\">\n",
       "      <th></th>\n",
       "      <th>Unnamed: 0</th>\n",
       "      <th>site_id</th>\n",
       "      <th>patient_id</th>\n",
       "      <th>image_id</th>\n",
       "      <th>laterality</th>\n",
       "      <th>view</th>\n",
       "      <th>age</th>\n",
       "      <th>cancer</th>\n",
       "      <th>biopsy</th>\n",
       "      <th>invasive</th>\n",
       "      <th>BIRADS</th>\n",
       "      <th>implant</th>\n",
       "      <th>density</th>\n",
       "      <th>machine_id</th>\n",
       "      <th>difficult_negative_case</th>\n",
       "      <th>fold</th>\n",
       "    </tr>\n",
       "  </thead>\n",
       "  <tbody>\n",
       "    <tr>\n",
       "      <th>0</th>\n",
       "      <td>0</td>\n",
       "      <td>2</td>\n",
       "      <td>10006</td>\n",
       "      <td>462822612</td>\n",
       "      <td>L</td>\n",
       "      <td>CC</td>\n",
       "      <td>61.0</td>\n",
       "      <td>0</td>\n",
       "      <td>0</td>\n",
       "      <td>0</td>\n",
       "      <td>NaN</td>\n",
       "      <td>0</td>\n",
       "      <td>NaN</td>\n",
       "      <td>29</td>\n",
       "      <td>False</td>\n",
       "      <td>1</td>\n",
       "    </tr>\n",
       "    <tr>\n",
       "      <th>1</th>\n",
       "      <td>1</td>\n",
       "      <td>2</td>\n",
       "      <td>10006</td>\n",
       "      <td>1459541791</td>\n",
       "      <td>L</td>\n",
       "      <td>MLO</td>\n",
       "      <td>61.0</td>\n",
       "      <td>0</td>\n",
       "      <td>0</td>\n",
       "      <td>0</td>\n",
       "      <td>NaN</td>\n",
       "      <td>0</td>\n",
       "      <td>NaN</td>\n",
       "      <td>29</td>\n",
       "      <td>False</td>\n",
       "      <td>1</td>\n",
       "    </tr>\n",
       "    <tr>\n",
       "      <th>2</th>\n",
       "      <td>2</td>\n",
       "      <td>2</td>\n",
       "      <td>10006</td>\n",
       "      <td>1864590858</td>\n",
       "      <td>R</td>\n",
       "      <td>MLO</td>\n",
       "      <td>61.0</td>\n",
       "      <td>0</td>\n",
       "      <td>0</td>\n",
       "      <td>0</td>\n",
       "      <td>NaN</td>\n",
       "      <td>0</td>\n",
       "      <td>NaN</td>\n",
       "      <td>29</td>\n",
       "      <td>False</td>\n",
       "      <td>4</td>\n",
       "    </tr>\n",
       "    <tr>\n",
       "      <th>3</th>\n",
       "      <td>3</td>\n",
       "      <td>2</td>\n",
       "      <td>10006</td>\n",
       "      <td>1874946579</td>\n",
       "      <td>R</td>\n",
       "      <td>CC</td>\n",
       "      <td>61.0</td>\n",
       "      <td>0</td>\n",
       "      <td>0</td>\n",
       "      <td>0</td>\n",
       "      <td>NaN</td>\n",
       "      <td>0</td>\n",
       "      <td>NaN</td>\n",
       "      <td>29</td>\n",
       "      <td>False</td>\n",
       "      <td>4</td>\n",
       "    </tr>\n",
       "    <tr>\n",
       "      <th>4</th>\n",
       "      <td>4</td>\n",
       "      <td>2</td>\n",
       "      <td>10011</td>\n",
       "      <td>220375232</td>\n",
       "      <td>L</td>\n",
       "      <td>CC</td>\n",
       "      <td>55.0</td>\n",
       "      <td>0</td>\n",
       "      <td>0</td>\n",
       "      <td>0</td>\n",
       "      <td>0.0</td>\n",
       "      <td>0</td>\n",
       "      <td>NaN</td>\n",
       "      <td>21</td>\n",
       "      <td>True</td>\n",
       "      <td>3</td>\n",
       "    </tr>\n",
       "  </tbody>\n",
       "</table>\n",
       "</div>"
      ],
      "text/plain": [
       "   Unnamed: 0  site_id  patient_id    image_id laterality view   age  cancer  \\\n",
       "0           0        2       10006   462822612          L   CC  61.0       0   \n",
       "1           1        2       10006  1459541791          L  MLO  61.0       0   \n",
       "2           2        2       10006  1864590858          R  MLO  61.0       0   \n",
       "3           3        2       10006  1874946579          R   CC  61.0       0   \n",
       "4           4        2       10011   220375232          L   CC  55.0       0   \n",
       "\n",
       "   biopsy  invasive  BIRADS  implant density  machine_id  \\\n",
       "0       0         0     NaN        0     NaN          29   \n",
       "1       0         0     NaN        0     NaN          29   \n",
       "2       0         0     NaN        0     NaN          29   \n",
       "3       0         0     NaN        0     NaN          29   \n",
       "4       0         0     0.0        0     NaN          21   \n",
       "\n",
       "   difficult_negative_case  fold  \n",
       "0                    False     1  \n",
       "1                    False     1  \n",
       "2                    False     4  \n",
       "3                    False     4  \n",
       "4                     True     3  "
      ]
     },
     "execution_count": 5,
     "metadata": {},
     "output_type": "execute_result"
    }
   ],
   "source": [
    "train.head()"
   ]
  },
  {
   "cell_type": "code",
   "execution_count": 6,
   "metadata": {},
   "outputs": [
    {
     "data": {
      "text/plain": [
       "1    29519\n",
       "2    25187\n",
       "Name: site_id, dtype: int64"
      ]
     },
     "execution_count": 6,
     "metadata": {},
     "output_type": "execute_result"
    }
   ],
   "source": [
    "train['site_id'].value_counts()"
   ]
  },
  {
   "cell_type": "code",
   "execution_count": 7,
   "metadata": {},
   "outputs": [
    {
     "data": {
      "text/plain": [
       "11913"
      ]
     },
     "execution_count": 7,
     "metadata": {},
     "output_type": "execute_result"
    }
   ],
   "source": [
    "train['patient_id'].nunique()"
   ]
  },
  {
   "cell_type": "code",
   "execution_count": 8,
   "metadata": {},
   "outputs": [
    {
     "data": {
      "text/plain": [
       "0    0.978832\n",
       "1    0.021168\n",
       "Name: cancer, dtype: float64"
      ]
     },
     "execution_count": 8,
     "metadata": {},
     "output_type": "execute_result"
    }
   ],
   "source": [
    "train['cancer'].value_counts(normalize=True)"
   ]
  },
  {
   "cell_type": "code",
   "execution_count": 9,
   "metadata": {},
   "outputs": [
    {
     "data": {
      "text/html": [
       "<div>\n",
       "<style scoped>\n",
       "    .dataframe tbody tr th:only-of-type {\n",
       "        vertical-align: middle;\n",
       "    }\n",
       "\n",
       "    .dataframe tbody tr th {\n",
       "        vertical-align: top;\n",
       "    }\n",
       "\n",
       "    .dataframe thead th {\n",
       "        text-align: right;\n",
       "    }\n",
       "</style>\n",
       "<table border=\"1\" class=\"dataframe\">\n",
       "  <thead>\n",
       "    <tr style=\"text-align: right;\">\n",
       "      <th></th>\n",
       "      <th>Unnamed: 0</th>\n",
       "      <th>site_id</th>\n",
       "      <th>patient_id</th>\n",
       "      <th>image_id</th>\n",
       "      <th>laterality</th>\n",
       "      <th>view</th>\n",
       "      <th>age</th>\n",
       "      <th>cancer</th>\n",
       "      <th>biopsy</th>\n",
       "      <th>invasive</th>\n",
       "      <th>BIRADS</th>\n",
       "      <th>implant</th>\n",
       "      <th>density</th>\n",
       "      <th>machine_id</th>\n",
       "      <th>difficult_negative_case</th>\n",
       "      <th>fold</th>\n",
       "    </tr>\n",
       "  </thead>\n",
       "  <tbody>\n",
       "    <tr>\n",
       "      <th>87</th>\n",
       "      <td>87</td>\n",
       "      <td>1</td>\n",
       "      <td>10130</td>\n",
       "      <td>388811999</td>\n",
       "      <td>L</td>\n",
       "      <td>MLO</td>\n",
       "      <td>71.0</td>\n",
       "      <td>1</td>\n",
       "      <td>1</td>\n",
       "      <td>1</td>\n",
       "      <td>0.0</td>\n",
       "      <td>0</td>\n",
       "      <td>B</td>\n",
       "      <td>49</td>\n",
       "      <td>False</td>\n",
       "      <td>2</td>\n",
       "    </tr>\n",
       "    <tr>\n",
       "      <th>88</th>\n",
       "      <td>88</td>\n",
       "      <td>1</td>\n",
       "      <td>10130</td>\n",
       "      <td>613462606</td>\n",
       "      <td>L</td>\n",
       "      <td>CC</td>\n",
       "      <td>71.0</td>\n",
       "      <td>1</td>\n",
       "      <td>1</td>\n",
       "      <td>1</td>\n",
       "      <td>0.0</td>\n",
       "      <td>0</td>\n",
       "      <td>B</td>\n",
       "      <td>49</td>\n",
       "      <td>False</td>\n",
       "      <td>3</td>\n",
       "    </tr>\n",
       "    <tr>\n",
       "      <th>89</th>\n",
       "      <td>89</td>\n",
       "      <td>1</td>\n",
       "      <td>10130</td>\n",
       "      <td>1360338805</td>\n",
       "      <td>L</td>\n",
       "      <td>CC</td>\n",
       "      <td>71.0</td>\n",
       "      <td>1</td>\n",
       "      <td>1</td>\n",
       "      <td>1</td>\n",
       "      <td>0.0</td>\n",
       "      <td>0</td>\n",
       "      <td>B</td>\n",
       "      <td>49</td>\n",
       "      <td>False</td>\n",
       "      <td>1</td>\n",
       "    </tr>\n",
       "    <tr>\n",
       "      <th>90</th>\n",
       "      <td>90</td>\n",
       "      <td>1</td>\n",
       "      <td>10130</td>\n",
       "      <td>1672636630</td>\n",
       "      <td>L</td>\n",
       "      <td>MLO</td>\n",
       "      <td>71.0</td>\n",
       "      <td>1</td>\n",
       "      <td>1</td>\n",
       "      <td>1</td>\n",
       "      <td>0.0</td>\n",
       "      <td>0</td>\n",
       "      <td>B</td>\n",
       "      <td>49</td>\n",
       "      <td>False</td>\n",
       "      <td>0</td>\n",
       "    </tr>\n",
       "    <tr>\n",
       "      <th>91</th>\n",
       "      <td>91</td>\n",
       "      <td>1</td>\n",
       "      <td>10130</td>\n",
       "      <td>1013166704</td>\n",
       "      <td>R</td>\n",
       "      <td>CC</td>\n",
       "      <td>71.0</td>\n",
       "      <td>0</td>\n",
       "      <td>0</td>\n",
       "      <td>0</td>\n",
       "      <td>NaN</td>\n",
       "      <td>0</td>\n",
       "      <td>B</td>\n",
       "      <td>49</td>\n",
       "      <td>False</td>\n",
       "      <td>1</td>\n",
       "    </tr>\n",
       "    <tr>\n",
       "      <th>...</th>\n",
       "      <td>...</td>\n",
       "      <td>...</td>\n",
       "      <td>...</td>\n",
       "      <td>...</td>\n",
       "      <td>...</td>\n",
       "      <td>...</td>\n",
       "      <td>...</td>\n",
       "      <td>...</td>\n",
       "      <td>...</td>\n",
       "      <td>...</td>\n",
       "      <td>...</td>\n",
       "      <td>...</td>\n",
       "      <td>...</td>\n",
       "      <td>...</td>\n",
       "      <td>...</td>\n",
       "      <td>...</td>\n",
       "    </tr>\n",
       "    <tr>\n",
       "      <th>54594</th>\n",
       "      <td>54594</td>\n",
       "      <td>2</td>\n",
       "      <td>9840</td>\n",
       "      <td>1559360810</td>\n",
       "      <td>R</td>\n",
       "      <td>CC</td>\n",
       "      <td>59.0</td>\n",
       "      <td>1</td>\n",
       "      <td>1</td>\n",
       "      <td>1</td>\n",
       "      <td>NaN</td>\n",
       "      <td>0</td>\n",
       "      <td>NaN</td>\n",
       "      <td>21</td>\n",
       "      <td>False</td>\n",
       "      <td>1</td>\n",
       "    </tr>\n",
       "    <tr>\n",
       "      <th>54595</th>\n",
       "      <td>54595</td>\n",
       "      <td>2</td>\n",
       "      <td>9851</td>\n",
       "      <td>1409270544</td>\n",
       "      <td>L</td>\n",
       "      <td>MLO</td>\n",
       "      <td>58.0</td>\n",
       "      <td>1</td>\n",
       "      <td>1</td>\n",
       "      <td>0</td>\n",
       "      <td>NaN</td>\n",
       "      <td>0</td>\n",
       "      <td>NaN</td>\n",
       "      <td>48</td>\n",
       "      <td>False</td>\n",
       "      <td>4</td>\n",
       "    </tr>\n",
       "    <tr>\n",
       "      <th>54596</th>\n",
       "      <td>54596</td>\n",
       "      <td>2</td>\n",
       "      <td>9851</td>\n",
       "      <td>1434430689</td>\n",
       "      <td>L</td>\n",
       "      <td>CC</td>\n",
       "      <td>58.0</td>\n",
       "      <td>1</td>\n",
       "      <td>1</td>\n",
       "      <td>0</td>\n",
       "      <td>NaN</td>\n",
       "      <td>0</td>\n",
       "      <td>NaN</td>\n",
       "      <td>48</td>\n",
       "      <td>False</td>\n",
       "      <td>0</td>\n",
       "    </tr>\n",
       "    <tr>\n",
       "      <th>54597</th>\n",
       "      <td>54597</td>\n",
       "      <td>2</td>\n",
       "      <td>9851</td>\n",
       "      <td>446210671</td>\n",
       "      <td>R</td>\n",
       "      <td>CC</td>\n",
       "      <td>58.0</td>\n",
       "      <td>0</td>\n",
       "      <td>0</td>\n",
       "      <td>0</td>\n",
       "      <td>NaN</td>\n",
       "      <td>0</td>\n",
       "      <td>NaN</td>\n",
       "      <td>48</td>\n",
       "      <td>False</td>\n",
       "      <td>3</td>\n",
       "    </tr>\n",
       "    <tr>\n",
       "      <th>54598</th>\n",
       "      <td>54598</td>\n",
       "      <td>2</td>\n",
       "      <td>9851</td>\n",
       "      <td>1945262248</td>\n",
       "      <td>R</td>\n",
       "      <td>MLO</td>\n",
       "      <td>58.0</td>\n",
       "      <td>0</td>\n",
       "      <td>0</td>\n",
       "      <td>0</td>\n",
       "      <td>NaN</td>\n",
       "      <td>0</td>\n",
       "      <td>NaN</td>\n",
       "      <td>48</td>\n",
       "      <td>False</td>\n",
       "      <td>2</td>\n",
       "    </tr>\n",
       "  </tbody>\n",
       "</table>\n",
       "<p>2280 rows × 16 columns</p>\n",
       "</div>"
      ],
      "text/plain": [
       "       Unnamed: 0  site_id  patient_id    image_id laterality view   age  \\\n",
       "87             87        1       10130   388811999          L  MLO  71.0   \n",
       "88             88        1       10130   613462606          L   CC  71.0   \n",
       "89             89        1       10130  1360338805          L   CC  71.0   \n",
       "90             90        1       10130  1672636630          L  MLO  71.0   \n",
       "91             91        1       10130  1013166704          R   CC  71.0   \n",
       "...           ...      ...         ...         ...        ...  ...   ...   \n",
       "54594       54594        2        9840  1559360810          R   CC  59.0   \n",
       "54595       54595        2        9851  1409270544          L  MLO  58.0   \n",
       "54596       54596        2        9851  1434430689          L   CC  58.0   \n",
       "54597       54597        2        9851   446210671          R   CC  58.0   \n",
       "54598       54598        2        9851  1945262248          R  MLO  58.0   \n",
       "\n",
       "       cancer  biopsy  invasive  BIRADS  implant density  machine_id  \\\n",
       "87          1       1         1     0.0        0       B          49   \n",
       "88          1       1         1     0.0        0       B          49   \n",
       "89          1       1         1     0.0        0       B          49   \n",
       "90          1       1         1     0.0        0       B          49   \n",
       "91          0       0         0     NaN        0       B          49   \n",
       "...       ...     ...       ...     ...      ...     ...         ...   \n",
       "54594       1       1         1     NaN        0     NaN          21   \n",
       "54595       1       1         0     NaN        0     NaN          48   \n",
       "54596       1       1         0     NaN        0     NaN          48   \n",
       "54597       0       0         0     NaN        0     NaN          48   \n",
       "54598       0       0         0     NaN        0     NaN          48   \n",
       "\n",
       "       difficult_negative_case  fold  \n",
       "87                       False     2  \n",
       "88                       False     3  \n",
       "89                       False     1  \n",
       "90                       False     0  \n",
       "91                       False     1  \n",
       "...                        ...   ...  \n",
       "54594                    False     1  \n",
       "54595                    False     4  \n",
       "54596                    False     0  \n",
       "54597                    False     3  \n",
       "54598                    False     2  \n",
       "\n",
       "[2280 rows x 16 columns]"
      ]
     },
     "execution_count": 9,
     "metadata": {},
     "output_type": "execute_result"
    }
   ],
   "source": [
    "patient_positive = train[train['cancer'] == 1]['patient_id']\n",
    "train[train['patient_id'].isin(patient_positive)]\n"
   ]
  },
  {
   "cell_type": "code",
   "execution_count": 11,
   "metadata": {},
   "outputs": [],
   "source": [
    "img = cv2.imread(\n",
    "    os.path.join(\n",
    "        cfg.INPUT.ROOT_DIR,\n",
    "        'cut_off_image512x1024',\n",
    "        '65534',\n",
    "        '44480502.png'\n",
    "    )\n",
    ")\n",
    "\n",
    "img = cv2.cvtColor(img, cv2.COLOR_BGR2GRAY)"
   ]
  },
  {
   "cell_type": "code",
   "execution_count": 12,
   "metadata": {},
   "outputs": [
    {
     "data": {
      "image/png": "[encoded data removed]",
      "text/plain": [
       "<Figure size 640x480 with 1 Axes>"
      ]
     },
     "metadata": {},
     "output_type": "display_data"
    }
   ],
   "source": [
    "plt.figure()\n",
    "plt.imshow(img)\n",
    "plt.show()"
   ]
  },
  {
   "cell_type": "code",
   "execution_count": 12,
   "metadata": {},
   "outputs": [],
   "source": [
    "from src.datasets.builder import create_train_loader, create_valid_loader\n",
    "train_loader = create_train_loader(\n",
    "    cfg=cfg,\n",
    "    df=train.sample(n=100)\n",
    ")\n",
    "\n",
    "valid_loader = create_valid_loader(\n",
    "    cfg=cfg,\n",
    "    df=train[train['fold']==cfg.INPUT.VALID_FOLD]\n",
    ")"
   ]
  },
  {
   "cell_type": "code",
   "execution_count": 13,
   "metadata": {},
   "outputs": [
    {
     "data": {
      "text/plain": [
       "torch.utils.data.dataloader.DataLoader"
      ]
     },
     "execution_count": 13,
     "metadata": {},
     "output_type": "execute_result"
    }
   ],
   "source": [
    "type(train_loader)"
   ]
  },
  {
   "cell_type": "code",
   "execution_count": 14,
   "metadata": {},
   "outputs": [
    {
     "name": "stdout",
     "output_type": "stream",
     "text": [
      "torch.Size([32, 1, 256, 256])\n",
      "torch.Size([32, 1, 256, 256])\n",
      "torch.Size([32, 1, 256, 256])\n"
     ]
    }
   ],
   "source": [
    "for step, (images, targets, image_ids, patinet_id) in enumerate(train_loader):\n",
    "    print(images.shape)"
   ]
  },
  {
   "cell_type": "code",
   "execution_count": 15,
   "metadata": {},
   "outputs": [],
   "source": [
    "import timm\n",
    "\n",
    "model = timm.create_model(\n",
    "    'seresnext50_32x4d', \n",
    "    pretrained=True,\n",
    "    in_chans=1,\n",
    "    num_classes=0\n",
    ")"
   ]
  },
  {
   "cell_type": "code",
   "execution_count": 16,
   "metadata": {},
   "outputs": [
    {
     "data": {
      "text/plain": [
       "{'url': 'https://github.com/rwightman/pytorch-image-models/releases/download/v0.1-weights/seresnext50_32x4d_racm-a304a460.pth',\n",
       " 'num_classes': 1000,\n",
       " 'input_size': (3, 224, 224),\n",
       " 'pool_size': (7, 7),\n",
       " 'crop_pct': 0.875,\n",
       " 'interpolation': 'bicubic',\n",
       " 'mean': (0.485, 0.456, 0.406),\n",
       " 'std': (0.229, 0.224, 0.225),\n",
       " 'first_conv': 'conv1',\n",
       " 'classifier': 'fc',\n",
       " 'architecture': 'seresnext50_32x4d'}"
      ]
     },
     "execution_count": 16,
     "metadata": {},
     "output_type": "execute_result"
    }
   ],
   "source": [
    "model.default_cfg"
   ]
  },
  {
   "cell_type": "code",
   "execution_count": 17,
   "metadata": {},
   "outputs": [
    {
     "data": {
      "text/plain": [
       "2048"
      ]
     },
     "execution_count": 17,
     "metadata": {},
     "output_type": "execute_result"
    }
   ],
   "source": [
    "list(model.parameters())[-1].shape[0]"
   ]
  },
  {
   "cell_type": "code",
   "execution_count": 18,
   "metadata": {},
   "outputs": [],
   "source": [
    "from src.modeling.model import kaggleBCModel\n",
    "model = kaggleBCModel(cfg)"
   ]
  },
  {
   "cell_type": "code",
   "execution_count": 19,
   "metadata": {},
   "outputs": [
    {
     "data": {
      "text/plain": [
       "tensor([[-0.0233],\n",
       "        [-0.0163],\n",
       "        [ 0.0068],\n",
       "        [ 0.1056],\n",
       "        [-0.0091],\n",
       "        [ 0.1641],\n",
       "        [ 0.1197],\n",
       "        [ 0.0684],\n",
       "        [ 0.0981],\n",
       "        [ 0.0851],\n",
       "        [ 0.0504],\n",
       "        [ 0.1505],\n",
       "        [ 0.0489],\n",
       "        [ 0.0647],\n",
       "        [-0.0205],\n",
       "        [-0.1103],\n",
       "        [ 0.2498],\n",
       "        [ 0.0004],\n",
       "        [ 0.0823],\n",
       "        [ 0.0215],\n",
       "        [ 0.1745],\n",
       "        [ 0.0159],\n",
       "        [ 0.1087],\n",
       "        [-0.0299],\n",
       "        [ 0.1218],\n",
       "        [ 0.1515],\n",
       "        [ 0.0059],\n",
       "        [ 0.1271],\n",
       "        [ 0.0806],\n",
       "        [ 0.0487],\n",
       "        [-0.0486],\n",
       "        [ 0.0408]], grad_fn=<AddmmBackward0>)"
      ]
     },
     "execution_count": 19,
     "metadata": {},
     "output_type": "execute_result"
    }
   ],
   "source": [
    "model(images.float())"
   ]
  },
  {
   "cell_type": "code",
   "execution_count": 20,
   "metadata": {},
   "outputs": [
    {
     "data": {
      "text/plain": [
       "tensor([[0.4942],\n",
       "        [0.4959],\n",
       "        [0.5017],\n",
       "        [0.5264],\n",
       "        [0.4977],\n",
       "        [0.5409],\n",
       "        [0.5299],\n",
       "        [0.5171],\n",
       "        [0.5245],\n",
       "        [0.5213],\n",
       "        [0.5126],\n",
       "        [0.5375],\n",
       "        [0.5122],\n",
       "        [0.5162],\n",
       "        [0.4949],\n",
       "        [0.4724],\n",
       "        [0.5621],\n",
       "        [0.5001],\n",
       "        [0.5206],\n",
       "        [0.5054],\n",
       "        [0.5435],\n",
       "        [0.5040],\n",
       "        [0.5271],\n",
       "        [0.4925],\n",
       "        [0.5304],\n",
       "        [0.5378],\n",
       "        [0.5015],\n",
       "        [0.5317],\n",
       "        [0.5201],\n",
       "        [0.5122],\n",
       "        [0.4879],\n",
       "        [0.5102]], grad_fn=<SigmoidBackward0>)"
      ]
     },
     "execution_count": 20,
     "metadata": {},
     "output_type": "execute_result"
    }
   ],
   "source": [
    "torch.sigmoid(model(images.float()))"
   ]
  },
  {
   "cell_type": "code",
   "execution_count": 21,
   "metadata": {},
   "outputs": [],
   "source": [
    "from src.modeling.optimizer import make_optimizer\n",
    "from src.modeling.scheduler import make_scheduler\n",
    "import torch.nn.functional as F\n",
    "\n",
    "#from src.utils import optimal_f1"
   ]
  },
  {
   "cell_type": "code",
   "execution_count": 22,
   "metadata": {},
   "outputs": [],
   "source": [
    "optimizer = make_optimizer(cfg, model)\n",
    "scheduler = make_scheduler(cfg, optimizer, train_loader)\n",
    "scaler = torch.cuda.amp.GradScaler()"
   ]
  },
  {
   "cell_type": "code",
   "execution_count": 23,
   "metadata": {},
   "outputs": [],
   "source": [
    "class SmoothBCEwLogits(_WeightedLoss):\n",
    "    def __init__(self, pos_weight=None, reduction='mean', smoothing=0.0):\n",
    "        super().__init__(reduction=reduction)\n",
    "        self.smoothing = smoothing\n",
    "        self.pos_weight = pos_weight\n",
    "        self.reduction = reduction\n",
    "\n",
    "    @staticmethod\n",
    "    def _smooth(targets:torch.Tensor, n_labels:int, smoothing=0.0):\n",
    "        assert 0 <= smoothing < 1\n",
    "        with torch.no_grad():\n",
    "            targets = targets * (1.0 - smoothing) + 0.5 * smoothing\n",
    "        return targets\n",
    "\n",
    "    def forward(self, inputs, targets):\n",
    "        targets = SmoothBCEwLogits._smooth(targets, inputs.size(-1),\n",
    "            self.smoothing)\n",
    "        loss = F.binary_cross_entropy_with_logits(inputs, targets, pos_weight=self.pos_weight)\n",
    "\n",
    "        if  self.reduction == 'sum':\n",
    "            loss = loss.sum()\n",
    "        elif  self.reduction == 'mean':\n",
    "            loss = loss.mean()\n",
    "\n",
    "        return loss"
   ]
  },
  {
   "cell_type": "code",
   "execution_count": 24,
   "metadata": {},
   "outputs": [],
   "source": [
    "class LabelSmoothingCrossEntropy(torch.nn.Module):\n",
    "    \"\"\" NLL loss with label smoothing.\n",
    "    \"\"\"\n",
    "    def __init__(self, smoothing=0.1):\n",
    "        super(LabelSmoothingCrossEntropy, self).__init__()\n",
    "        assert smoothing < 1.0\n",
    "        self.smoothing = smoothing\n",
    "        self.confidence = 1. - smoothing\n",
    "\n",
    "    def forward(self, x: torch.Tensor, target: torch.Tensor) -> torch.Tensor:\n",
    "        logprobs = F.log_softmax(x, dim=-1)\n",
    "        nll_loss = -logprobs.gather(dim=-1, index=target)\n",
    "        smooth_loss = -logprobs.mean(dim=-1)\n",
    "        loss = self.confidence * nll_loss + self.smoothing * smooth_loss\n",
    "        return loss.mean()"
   ]
  },
  {
   "cell_type": "code",
   "execution_count": 25,
   "metadata": {},
   "outputs": [],
   "source": [
    "preds = model(images.float())\n",
    "logprobs = F.log_softmax(preds, dim=-1)"
   ]
  },
  {
   "cell_type": "code",
   "execution_count": 26,
   "metadata": {},
   "outputs": [
    {
     "data": {
      "text/plain": [
       "tensor([[-0.0233],\n",
       "        [-0.0163],\n",
       "        [ 0.0068],\n",
       "        [ 0.1056],\n",
       "        [-0.0091],\n",
       "        [ 0.1641],\n",
       "        [ 0.1197],\n",
       "        [ 0.0684],\n",
       "        [ 0.0981],\n",
       "        [ 0.0851],\n",
       "        [ 0.0504],\n",
       "        [ 0.1505],\n",
       "        [ 0.0489],\n",
       "        [ 0.0647],\n",
       "        [-0.0205],\n",
       "        [-0.1103],\n",
       "        [ 0.2498],\n",
       "        [ 0.0004],\n",
       "        [ 0.0823],\n",
       "        [ 0.0215],\n",
       "        [ 0.1745],\n",
       "        [ 0.0159],\n",
       "        [ 0.1087],\n",
       "        [-0.0299],\n",
       "        [ 0.1218],\n",
       "        [ 0.1515],\n",
       "        [ 0.0059],\n",
       "        [ 0.1271],\n",
       "        [ 0.0806],\n",
       "        [ 0.0487],\n",
       "        [-0.0486],\n",
       "        [ 0.0408]], grad_fn=<AddmmBackward0>)"
      ]
     },
     "execution_count": 26,
     "metadata": {},
     "output_type": "execute_result"
    }
   ],
   "source": [
    "preds"
   ]
  },
  {
   "cell_type": "code",
   "execution_count": 27,
   "metadata": {},
   "outputs": [
    {
     "name": "stderr",
     "output_type": "stream",
     "text": [
      "MIOpen(HIP): Warning [SQLiteBase] Unable to read system database file:gfx900_64.kdb Performance may degrade\n"
     ]
    },
    {
     "name": "stdout",
     "output_type": "stream",
     "text": [
      "torch.Size([32])\n"
     ]
    }
   ],
   "source": [
    "model.to('cuda').train()\n",
    "#loss_criterion = LabelSmoothingCrossEntropy()\n",
    "loss_criterion = SmoothBCEwLogits(\n",
    "    pos_weight=torch.Tensor([20]).to('cuda'),\n",
    "    smoothing=0.1\n",
    ")\n",
    "imgs, targets, _, _ = next(iter((train_loader)))\n",
    "imgs = imgs.to('cuda').float()\n",
    "targets = targets.to('cuda')\n",
    "bs = imgs.shape[0]\n",
    "\n",
    "optimizer.zero_grad()\n",
    "\n",
    "preds = model(imgs).squeeze()\n",
    "#preds = torch.sigmoid(preds)\n",
    "print(preds.shape)\n",
    "#loss = torch.nn.functional.binary_cross_entropy_with_logits(\n",
    "#    preds,\n",
    "#    targets,\n",
    "#    #TODO inserire uno scaling per lo sbilanciamento\n",
    "#    #pos_weight=torch.tensor([config.POSITIVE_TARGET_WEIGHT]).to(DEVICE)\n",
    "#)\n",
    "loss = loss_criterion(preds, targets)\n",
    "loss.backward()"
   ]
  },
  {
   "cell_type": "code",
   "execution_count": 28,
   "metadata": {},
   "outputs": [
    {
     "name": "stdout",
     "output_type": "stream",
     "text": [
      "tensor(1.3527, device='cuda:0')\n"
     ]
    }
   ],
   "source": [
    "print(loss.detach())"
   ]
  },
  {
   "cell_type": "code",
   "execution_count": 29,
   "metadata": {},
   "outputs": [
    {
     "data": {
      "text/plain": [
       "tensor([0.5039, 0.5338, 0.5297, 0.5417, 0.5331, 0.4911, 0.4958, 0.5066, 0.5030,\n",
       "        0.4965, 0.5123, 0.4784, 0.5384, 0.5183, 0.4729, 0.5112, 0.5349, 0.4784,\n",
       "        0.4962, 0.5304, 0.5333, 0.5183, 0.5235, 0.4926, 0.4901, 0.5179, 0.5589,\n",
       "        0.5211, 0.5048, 0.4787, 0.5188, 0.4958], device='cuda:0',\n",
       "       grad_fn=<SigmoidBackward0>)"
      ]
     },
     "execution_count": 29,
     "metadata": {},
     "output_type": "execute_result"
    }
   ],
   "source": [
    "torch.sigmoid(preds)"
   ]
  },
  {
   "cell_type": "code",
   "execution_count": 30,
   "metadata": {},
   "outputs": [
    {
     "data": {
      "text/plain": [
       "tensor(1.4020, device='cuda:0', grad_fn=<MeanBackward0>)"
      ]
     },
     "execution_count": 30,
     "metadata": {},
     "output_type": "execute_result"
    }
   ],
   "source": [
    "loss_criterion(torch.sigmoid(preds), targets)"
   ]
  },
  {
   "cell_type": "code",
   "execution_count": 31,
   "metadata": {},
   "outputs": [],
   "source": [
    "#model.to('cuda').train()\n",
    "#loss_criterion = LabelSmoothingCrossEntropy()\n",
    "#\n",
    "#for step, (imgs, targets, _, _) in enumerate(train_loader):\n",
    "#    \n",
    "#    imgs = imgs.to('cuda').float()\n",
    "#    targets = targets.to('cuda')\n",
    "#    bs = imgs.shape[0]\n",
    "#\n",
    "#    optimizer.zero_grad()\n",
    "#\n",
    "#    with torch.autocast(device_type='cuda'):\n",
    "#        preds = model(imgs).squeeze()\n",
    "#        preds = torch.sigmoid(preds)\n",
    "#        print(preds.shape)\n",
    "#        #loss = torch.nn.functional.binary_cross_entropy_with_logits(\n",
    "#        #    preds,\n",
    "#        #    targets,\n",
    "#        #    #TODO inserire uno scaling per lo sbilanciamento\n",
    "#        #    #pos_weight=torch.tensor([config.POSITIVE_TARGET_WEIGHT]).to(DEVICE)\n",
    "#        #)\n",
    "#        loss = loss_criterion(preds, targets)\n",
    "#    \n",
    "#    scaled_loss = scaler.scale(loss)\n",
    "#    print(scaled_loss)\n",
    "#    scaled_loss.backward()\n",
    "#    scaler.step(optimizer)\n",
    "#\n",
    "#    if scheduler is not None:\n",
    "#        scheduler.step()\n",
    "#        \n",
    "#    scaler.update()"
   ]
  },
  {
   "cell_type": "code",
   "execution_count": 32,
   "metadata": {},
   "outputs": [],
   "source": [
    "#model.eval()\n",
    "#fold_predictions = []\n",
    "#fold_img_ids = []\n",
    "#fold_targets = []\n",
    "#\n",
    "#with torch.no_grad():\n",
    "#    for step, (images, targets, image_ids, patient_ids) in enumerate(valid_loader):\n",
    "#        \n",
    "#        images = images.to('cuda').float()\n",
    "#        targets = targets.to('cuda').float()\n",
    "#        batch_size = images.shape[0]\n",
    "#\n",
    "#        preds = model(images).squeeze()\n",
    "#\n",
    "#        #Add logit to the predictions\n",
    "#        log_preds = torch.sigmoid(preds)\n",
    "#        loss = torch.nn.functional.binary_cross_entropy_with_logits(\n",
    "#            preds,\n",
    "#            targets,\n",
    "#            #TODO inserire uno scaling per lo sbilanciamento\n",
    "#            #pos_weight=torch.tensor([config.POSITIVE_TARGET_WEIGHT]).to(DEVICE)\n",
    "#        )\n",
    "#        \n",
    "#        fold_predictions.append(log_preds.detach().cpu().numpy())\n",
    "#        fold_img_ids.append(image_ids.detach().cpu().numpy())\n",
    "#        fold_targets.append(targets.detach().cpu().numpy())\n",
    "#\n",
    "#        #TODO: creare un layer di inferenza\n",
    "#        #inference(self.all_predictions, images, outputs['detections'], targets, image_ids)\n",
    "#                    \n",
    "#    fold_predictions = np.concatenate(fold_predictions)\n",
    "#    fold_img_ids = np.concatenate(fold_img_ids)\n",
    "#    fold_targets = np.concatenate(fold_targets)\n",
    "#    \n",
    "#    #pf1, thres = optimal_f1(fold_targets, fold_predictions)"
   ]
  },
  {
   "cell_type": "code",
   "execution_count": 33,
   "metadata": {},
   "outputs": [
    {
     "ename": "NameError",
     "evalue": "name 'fold_predictions' is not defined",
     "output_type": "error",
     "traceback": [
      "\u001b[0;31m---------------------------------------------------------------------------\u001b[0m",
      "\u001b[0;31mNameError\u001b[0m                                 Traceback (most recent call last)",
      "Cell \u001b[0;32mIn[33], line 1\u001b[0m\n\u001b[0;32m----> 1\u001b[0m fold_predictions\u001b[39m.\u001b[39mshape\n",
      "\u001b[0;31mNameError\u001b[0m: name 'fold_predictions' is not defined"
     ]
    }
   ],
   "source": [
    "fold_predictions.shape"
   ]
  },
  {
   "cell_type": "code",
   "execution_count": null,
   "metadata": {},
   "outputs": [
    {
     "data": {
      "text/html": [
       "<div>\n",
       "<style scoped>\n",
       "    .dataframe tbody tr th:only-of-type {\n",
       "        vertical-align: middle;\n",
       "    }\n",
       "\n",
       "    .dataframe tbody tr th {\n",
       "        vertical-align: top;\n",
       "    }\n",
       "\n",
       "    .dataframe thead th {\n",
       "        text-align: right;\n",
       "    }\n",
       "</style>\n",
       "<table border=\"1\" class=\"dataframe\">\n",
       "  <thead>\n",
       "    <tr style=\"text-align: right;\">\n",
       "      <th></th>\n",
       "      <th>img_id</th>\n",
       "      <th>target</th>\n",
       "      <th>preds</th>\n",
       "      <th>thr</th>\n",
       "    </tr>\n",
       "  </thead>\n",
       "  <tbody>\n",
       "    <tr>\n",
       "      <th>0</th>\n",
       "      <td>462822612</td>\n",
       "      <td>0.0</td>\n",
       "      <td>0.376683</td>\n",
       "      <td>0.0</td>\n",
       "    </tr>\n",
       "    <tr>\n",
       "      <th>1</th>\n",
       "      <td>1459541791</td>\n",
       "      <td>0.0</td>\n",
       "      <td>0.129836</td>\n",
       "      <td>0.0</td>\n",
       "    </tr>\n",
       "    <tr>\n",
       "      <th>2</th>\n",
       "      <td>541722628</td>\n",
       "      <td>0.0</td>\n",
       "      <td>0.048347</td>\n",
       "      <td>0.0</td>\n",
       "    </tr>\n",
       "    <tr>\n",
       "      <th>3</th>\n",
       "      <td>562340703</td>\n",
       "      <td>0.0</td>\n",
       "      <td>0.153910</td>\n",
       "      <td>0.0</td>\n",
       "    </tr>\n",
       "    <tr>\n",
       "      <th>4</th>\n",
       "      <td>1842203124</td>\n",
       "      <td>0.0</td>\n",
       "      <td>0.086354</td>\n",
       "      <td>0.0</td>\n",
       "    </tr>\n",
       "    <tr>\n",
       "      <th>...</th>\n",
       "      <td>...</td>\n",
       "      <td>...</td>\n",
       "      <td>...</td>\n",
       "      <td>...</td>\n",
       "    </tr>\n",
       "    <tr>\n",
       "      <th>10936</th>\n",
       "      <td>525142703</td>\n",
       "      <td>0.0</td>\n",
       "      <td>0.004050</td>\n",
       "      <td>0.0</td>\n",
       "    </tr>\n",
       "    <tr>\n",
       "      <th>10937</th>\n",
       "      <td>846263495</td>\n",
       "      <td>0.0</td>\n",
       "      <td>0.023714</td>\n",
       "      <td>0.0</td>\n",
       "    </tr>\n",
       "    <tr>\n",
       "      <th>10938</th>\n",
       "      <td>766198919</td>\n",
       "      <td>0.0</td>\n",
       "      <td>0.000092</td>\n",
       "      <td>0.0</td>\n",
       "    </tr>\n",
       "    <tr>\n",
       "      <th>10939</th>\n",
       "      <td>2098937312</td>\n",
       "      <td>0.0</td>\n",
       "      <td>0.000976</td>\n",
       "      <td>0.0</td>\n",
       "    </tr>\n",
       "    <tr>\n",
       "      <th>10940</th>\n",
       "      <td>63473691</td>\n",
       "      <td>0.0</td>\n",
       "      <td>0.033098</td>\n",
       "      <td>0.0</td>\n",
       "    </tr>\n",
       "  </tbody>\n",
       "</table>\n",
       "<p>10941 rows × 4 columns</p>\n",
       "</div>"
      ],
      "text/plain": [
       "           img_id  target     preds  thr\n",
       "0       462822612     0.0  0.376683  0.0\n",
       "1      1459541791     0.0  0.129836  0.0\n",
       "2       541722628     0.0  0.048347  0.0\n",
       "3       562340703     0.0  0.153910  0.0\n",
       "4      1842203124     0.0  0.086354  0.0\n",
       "...           ...     ...       ...  ...\n",
       "10936   525142703     0.0  0.004050  0.0\n",
       "10937   846263495     0.0  0.023714  0.0\n",
       "10938   766198919     0.0  0.000092  0.0\n",
       "10939  2098937312     0.0  0.000976  0.0\n",
       "10940    63473691     0.0  0.033098  0.0\n",
       "\n",
       "[10941 rows x 4 columns]"
      ]
     },
     "execution_count": 50,
     "metadata": {},
     "output_type": "execute_result"
    }
   ],
   "source": [
    "pd.DataFrame({\n",
    "    'img_id': fold_img_ids,\n",
    "    'target': fold_targets,\n",
    "    'preds': fold_predictions,\n",
    "    'thr': thres\n",
    "})"
   ]
  },
  {
   "cell_type": "code",
   "execution_count": null,
   "metadata": {},
   "outputs": [
    {
     "data": {
      "text/plain": [
       "array([3.7668341e-01, 1.2983595e-01, 4.8346601e-02, ..., 9.1781403e-05,\n",
       "       9.7645866e-04, 3.3098299e-02], dtype=float32)"
      ]
     },
     "execution_count": 44,
     "metadata": {},
     "output_type": "execute_result"
    }
   ],
   "source": [
    "fold_predictions"
   ]
  },
  {
   "cell_type": "code",
   "execution_count": null,
   "metadata": {},
   "outputs": [
    {
     "data": {
      "text/plain": [
       "torch.Size([8, 1])"
      ]
     },
     "execution_count": 35,
     "metadata": {},
     "output_type": "execute_result"
    }
   ],
   "source": [
    "targets.unsqueeze(1).shape"
   ]
  },
  {
   "cell_type": "code",
   "execution_count": null,
   "metadata": {},
   "outputs": [
    {
     "data": {
      "text/plain": [
       "0.0"
      ]
     },
     "execution_count": 43,
     "metadata": {},
     "output_type": "execute_result"
    }
   ],
   "source": [
    "thres"
   ]
  },
  {
   "cell_type": "code",
   "execution_count": null,
   "metadata": {},
   "outputs": [],
   "source": []
  }
 ],
 "metadata": {
  "kernelspec": {
   "display_name": "env",
   "language": "python",
   "name": "python3"
  },
  "language_info": {
   "codemirror_mode": {
    "name": "ipython",
    "version": 3
   },
   "file_extension": ".py",
   "mimetype": "text/x-python",
   "name": "python",
   "nbconvert_exporter": "python",
   "pygments_lexer": "ipython3",
   "version": "3.8.10"
  },
  "orig_nbformat": 4,
  "vscode": {
   "interpreter": {
    "hash": "a05816770b43371901bb922a80b85b44f534e84ff05a89061d13b20dd016dd4b"
   }
  }
 },
 "nbformat": 4,
 "nbformat_minor": 2
}
