{
 "cells": [
  {
   "cell_type": "code",
   "execution_count": 1,
   "metadata": {},
   "outputs": [
    {
     "name": "stdout",
     "output_type": "stream",
     "text": [
      "1.13.1+rocm5.2\n"
     ]
    }
   ],
   "source": [
    "#import torch_tensorrt\n",
    "import tensorrt\n",
    "import torch\n",
    "print(torch.__version__)"
   ]
  },
  {
   "cell_type": "code",
   "execution_count": 3,
   "metadata": {},
   "outputs": [],
   "source": [
    "import pandas as pd\n",
    "import numpy as np\n",
    "import cv2\n",
    "\n",
    "from timeit import default_timer as timer\n",
    "from joblib import Parallel, delayed\n",
    "from glob import glob\n",
    "##from tqdm import tqdm\n",
    "from tqdm.notebook import tqdm\n",
    "\n",
    "import os, glob\n",
    "import sys\n",
    "\n",
    "import pydicom"
   ]
  },
  {
   "cell_type": "code",
   "execution_count": 6,
   "metadata": {},
   "outputs": [],
   "source": [
    "file_list = glob.glob('../data/cut_off_image512x1024/5/*.png')"
   ]
  },
  {
   "cell_type": "code",
   "execution_count": 9,
   "metadata": {},
   "outputs": [
    {
     "name": "stderr",
     "output_type": "stream",
     "text": [
      "Using cache found in /home/giorgio/.cache/torch/hub/ultralytics_yolov5_master\n",
      "\u001b[31m\u001b[1mrequirements:\u001b[0m YOLOv5 requirement \"torchvision>=0.8.1\" not found, attempting AutoUpdate...\n",
      "\u001b[31mERROR: pip's dependency resolver does not currently take into account all the packages that are installed. This behaviour is the source of the following dependency conflicts.\n",
      "torch-tensorrt 1.2.0 requires torch<1.13.0,>=1.12.0+cu116, but you have torch 1.11.0 which is incompatible.\u001b[0m\u001b[31m\n",
      "\u001b[0mLooking in indexes: https://pypi.org/simple, https://pypi.ngc.nvidia.com\n",
      "Requirement already satisfied: torchvision>=0.8.1 in /home/giorgio/Scrivania/kaggle/rnsa-mammo-kaggle/env/lib/python3.8/site-packages (0.12.0+rocm4.5.2)\n",
      "Requirement already satisfied: typing-extensions in /home/giorgio/Scrivania/kaggle/rnsa-mammo-kaggle/env/lib/python3.8/site-packages (from torchvision>=0.8.1) (4.4.0)\n",
      "Requirement already satisfied: numpy in /home/giorgio/Scrivania/kaggle/rnsa-mammo-kaggle/env/lib/python3.8/site-packages (from torchvision>=0.8.1) (1.24.1)\n",
      "Requirement already satisfied: pillow!=8.3.*,>=5.3.0 in /home/giorgio/Scrivania/kaggle/rnsa-mammo-kaggle/env/lib/python3.8/site-packages (from torchvision>=0.8.1) (9.3.0)\n",
      "Collecting torch==1.11.0\n",
      "  Downloading torch-1.11.0-cp38-cp38-manylinux1_x86_64.whl (750.6 MB)\n",
      "\u001b[2K     \u001b[90m━━━━━━━━━━━━━━━━━━━━━━━━━━━━━━━━━━━━━━\u001b[0m \u001b[32m750.6/750.6 MB\u001b[0m \u001b[31m17.8 MB/s\u001b[0m eta \u001b[36m0:00:00\u001b[0m00:01\u001b[0m00:02\u001b[0m\n",
      "\u001b[?25hRequirement already satisfied: requests in /home/giorgio/Scrivania/kaggle/rnsa-mammo-kaggle/env/lib/python3.8/site-packages (from torchvision>=0.8.1) (2.28.1)\n",
      "Requirement already satisfied: idna<4,>=2.5 in /home/giorgio/Scrivania/kaggle/rnsa-mammo-kaggle/env/lib/python3.8/site-packages (from requests->torchvision>=0.8.1) (3.4)\n",
      "Requirement already satisfied: charset-normalizer<3,>=2 in /home/giorgio/Scrivania/kaggle/rnsa-mammo-kaggle/env/lib/python3.8/site-packages (from requests->torchvision>=0.8.1) (2.1.1)\n",
      "Requirement already satisfied: certifi>=2017.4.17 in /home/giorgio/Scrivania/kaggle/rnsa-mammo-kaggle/env/lib/python3.8/site-packages (from requests->torchvision>=0.8.1) (2022.12.7)\n",
      "Requirement already satisfied: urllib3<1.27,>=1.21.1 in /home/giorgio/Scrivania/kaggle/rnsa-mammo-kaggle/env/lib/python3.8/site-packages (from requests->torchvision>=0.8.1) (1.26.13)\n",
      "Installing collected packages: torch\n",
      "  Attempting uninstall: torch\n",
      "    Found existing installation: torch 1.13.1+rocm5.2\n",
      "    Uninstalling torch-1.13.1+rocm5.2:\n",
      "      Successfully uninstalled torch-1.13.1+rocm5.2\n",
      "Successfully installed torch-1.11.0\n",
      "\n",
      "\u001b[31m\u001b[1mrequirements:\u001b[0m 1 package updated per /home/giorgio/.cache/torch/hub/ultralytics_yolov5_master/requirements.txt\n",
      "\u001b[31m\u001b[1mrequirements:\u001b[0m ⚠️ \u001b[1mRestart runtime or rerun command for updates to take effect\u001b[0m\n",
      "\n",
      "YOLOv5 🚀 2023-2-7 Python-3.8.10 torch-1.13.1+rocm5.2 CUDA:0 (Radeon RX Vega, 8176MiB)\n",
      "\n",
      "Downloading https://github.com/ultralytics/yolov5/releases/download/v7.0/yolov5s.pt to yolov5s.pt...\n"
     ]
    },
    {
     "data": {
      "application/vnd.jupyter.widget-view+json": {
       "model_id": "2762540b0dda4ef89f11b83509371f84",
       "version_major": 2,
       "version_minor": 0
      },
      "text/plain": [
       "  0%|          | 0.00/14.1M [00:00<?, ?B/s]"
      ]
     },
     "metadata": {},
     "output_type": "display_data"
    },
    {
     "name": "stderr",
     "output_type": "stream",
     "text": [
      "\n",
      "Fusing layers... \n"
     ]
    },
    {
     "ename": "",
     "evalue": "",
     "output_type": "error",
     "traceback": [
      "\u001b[1;31mThe Kernel crashed while executing code in the the current cell or a previous cell. Please review the code in the cell(s) to identify a possible cause of the failure. Click <a href='https://aka.ms/vscodeJupyterKernelCrash'>here</a> for more info. View Jupyter <a href='command:jupyter.viewOutput'>log</a> for further details."
     ]
    },
    {
     "ename": "",
     "evalue": "",
     "output_type": "error",
     "traceback": [
      "\u001b[1;31mCanceled future for execute_request message before replies were done"
     ]
    }
   ],
   "source": [
    "model = torch.hub.load('ultralytics/yolov5', 'yolov5s', pretrained=True)"
   ]
  },
  {
   "cell_type": "code",
   "execution_count": 7,
   "metadata": {},
   "outputs": [
    {
     "data": {
      "text/plain": [
       "['../data/cut_off_image512x1024/5/940388076.png',\n",
       " '../data/cut_off_image512x1024/5/1351088028.png',\n",
       " '../data/cut_off_image512x1024/5/640805896.png',\n",
       " '../data/cut_off_image512x1024/5/1633417959.png']"
      ]
     },
     "execution_count": 7,
     "metadata": {},
     "output_type": "execute_result"
    }
   ],
   "source": [
    "img = cv2.imread(img_path)\n",
    "detections = model(file_list)\n",
    "results = detections.pandas().xyxy[0].to_dict(orient=\"records\")"
   ]
  },
  {
   "cell_type": "code",
   "execution_count": null,
   "metadata": {},
   "outputs": [],
   "source": []
  }
 ],
 "metadata": {
  "kernelspec": {
   "display_name": "env",
   "language": "python",
   "name": "python3"
  },
  "language_info": {
   "codemirror_mode": {
    "name": "ipython",
    "version": 3
   },
   "file_extension": ".py",
   "mimetype": "text/x-python",
   "name": "python",
   "nbconvert_exporter": "python",
   "pygments_lexer": "ipython3",
   "version": "3.8.10"
  },
  "orig_nbformat": 4,
  "vscode": {
   "interpreter": {
    "hash": "a05816770b43371901bb922a80b85b44f534e84ff05a89061d13b20dd016dd4b"
   }
  }
 },
 "nbformat": 4,
 "nbformat_minor": 2
}
