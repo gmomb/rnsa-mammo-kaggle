{
 "cells": [
  {
   "cell_type": "code",
   "execution_count": 1,
   "metadata": {},
   "outputs": [],
   "source": [
    "import os\n",
    "os.chdir('../src')"
   ]
  },
  {
   "cell_type": "code",
   "execution_count": 2,
   "metadata": {},
   "outputs": [],
   "source": [
    "import logging, datetime\n",
    "from pathlib import Path\n",
    "import pandas as pd\n",
    "\n",
    "from datasets import create_train_loader, create_valid_loader\n",
    "from configs import cfg\n",
    "from modeling.model import kaggleBCModel\n",
    "from engine.fitter import Fitter"
   ]
  },
  {
   "cell_type": "code",
   "execution_count": 3,
   "metadata": {},
   "outputs": [],
   "source": [
    "train_df = pd.read_csv(\n",
    "    '../data/train_folds.csv'\n",
    ")\n",
    "\n",
    "train_loader = create_train_loader(\n",
    "    cfg,\n",
    "    df=train_df[train_df['fold'] != cfg.INPUT.VALID_FOLD].sample(100)\n",
    ")\n",
    "\n",
    "valid_loader = create_valid_loader(\n",
    "    cfg,\n",
    "    df=train_df[train_df['fold'] == cfg.INPUT.VALID_FOLD].sample(100)\n",
    ")\n",
    "\n",
    "model = kaggleBCModel(cfg)"
   ]
  },
  {
   "cell_type": "code",
   "execution_count": null,
   "metadata": {},
   "outputs": [],
   "source": []
  },
  {
   "cell_type": "code",
   "execution_count": 4,
   "metadata": {},
   "outputs": [],
   "source": [
    "Path(cfg.OUTPUT_DIR).mkdir(parents=True, exist_ok=True)\n",
    "Path(cfg.OUTPUT_DIR).mkdir(parents=True, exist_ok=True)\n",
    "Path(cfg.OUTPUT_DIR).mkdir(parents=True, exist_ok=True)\n",
    "\n",
    "#Istanzio il logger\n",
    "path_logger = os.path.join(\n",
    "    cfg.OUTPUT_DIR, f'train-{datetime.datetime.now()}.log'\n",
    ")\n",
    "\n",
    "logging.basicConfig(filename=path_logger, level=logging.DEBUG)\n",
    "logger = logging.getLogger()"
   ]
  },
  {
   "cell_type": "code",
   "execution_count": 5,
   "metadata": {},
   "outputs": [],
   "source": [
    "fit_engine = Fitter(\n",
    "    model,\n",
    "    cfg,\n",
    "    train_loader,\n",
    "    valid_loader,\n",
    "    logger\n",
    ")"
   ]
  },
  {
   "cell_type": "code",
   "execution_count": 6,
   "metadata": {},
   "outputs": [],
   "source": [
    "fit_engine.load(\n",
    "    '../experiments/resnet34_2022-12-30/weights/resnet34_best.pth'\n",
    ")"
   ]
  },
  {
   "cell_type": "code",
   "execution_count": 7,
   "metadata": {},
   "outputs": [
    {
     "data": {
      "text/plain": [
       "0.13333333333333336"
      ]
     },
     "execution_count": 7,
     "metadata": {},
     "output_type": "execute_result"
    }
   ],
   "source": [
    "fit_engine.best_final_score"
   ]
  },
  {
   "cell_type": "code",
   "execution_count": null,
   "metadata": {},
   "outputs": [],
   "source": []
  }
 ],
 "metadata": {
  "kernelspec": {
   "display_name": "env",
   "language": "python",
   "name": "python3"
  },
  "language_info": {
   "codemirror_mode": {
    "name": "ipython",
    "version": 3
   },
   "file_extension": ".py",
   "mimetype": "text/x-python",
   "name": "python",
   "nbconvert_exporter": "python",
   "pygments_lexer": "ipython3",
   "version": "3.8.10"
  },
  "orig_nbformat": 4,
  "vscode": {
   "interpreter": {
    "hash": "a05816770b43371901bb922a80b85b44f534e84ff05a89061d13b20dd016dd4b"
   }
  }
 },
 "nbformat": 4,
 "nbformat_minor": 2
}
