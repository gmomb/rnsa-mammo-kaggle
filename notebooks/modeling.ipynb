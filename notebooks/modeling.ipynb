{
 "cells": [
  {
   "cell_type": "code",
   "execution_count": 1,
   "metadata": {},
   "outputs": [],
   "source": [
    "import os\n",
    "os.chdir('../src')"
   ]
  },
  {
   "cell_type": "code",
   "execution_count": 2,
   "metadata": {},
   "outputs": [],
   "source": [
    "from glob import glob\n",
    "\n",
    "import pandas as pd\n",
    "import numpy as np\n",
    "\n",
    "import torch\n",
    "from torch.utils.data import Dataset, DataLoader\n",
    "import torch.nn as nn\n",
    "import torch.nn.functional as F\n",
    "from torch.cuda import amp\n",
    "from torch.utils.data.sampler import SequentialSampler\n",
    "\n",
    "import timm\n",
    "from timm.models.resnet import resnet34d\n",
    "\n",
    "import cv2\n",
    "import matplotlib.pyplot as plt\n",
    "\n",
    "from datasets import create_train_loader, create_valid_loader\n",
    "from configs import cfg"
   ]
  },
  {
   "cell_type": "code",
   "execution_count": 3,
   "metadata": {},
   "outputs": [],
   "source": [
    "path_df = os.path.join(\n",
    "        cfg.INPUT.ROOT_DIR, 'train_folds.csv'\n",
    "    )\n",
    "\n",
    "df = pd.read_csv(\n",
    "    path_df\n",
    ")\n",
    "\n",
    "train_df = df[df['fold'] != cfg.INPUT.VALID_FOLD]\n",
    "valid_df = df[df['fold'] == cfg.INPUT.VALID_FOLD]\n",
    "\n",
    "#Se sono in modalità debug itero velocemente\n",
    "if cfg.DEBUG:\n",
    "    train_df = train_df.sample(frac=0.1)\n",
    "    valid_df = valid_df.sample(frac=0.1)\n",
    "\n",
    "\n",
    "# Creo i loader\n",
    "train_loader = create_train_loader(cfg, df=train_df)"
   ]
  },
  {
   "cell_type": "code",
   "execution_count": 31,
   "metadata": {},
   "outputs": [],
   "source": [
    "class kaggleBCModel(torch.nn.Module):\n",
    "    def __init__(self, aux_class, cfg) -> None:\n",
    "        super().__init__()\n",
    "\n",
    "        self.cfg = cfg\n",
    "        #TODO: ricordarsi nella prediction di fare un sigmoid dopo l'output\n",
    "        self.register_buffer('mean', torch.FloatTensor([0.5, 0.5, 0.5]).reshape(1, 3, 1, 1))\n",
    "        self.register_buffer('std', torch.FloatTensor([0.5, 0.5, 0.5]).reshape(1, 3, 1, 1))\n",
    "        self.encoder = timm.create_model(\n",
    "            self.cfg.SOLVER.MODEL_NAME, pretrained=True, in_chans = 3\n",
    "        )\n",
    "\n",
    "        self.fe_dim = self.encoder.fc.in_features\n",
    "        \n",
    "        self.cancer_layer = torch.nn.Sequential(\n",
    "            torch.nn.Linear(self.fe_dim, 1),\n",
    "        )\n",
    "\n",
    "        self.aux_layer = torch.nn.ModuleList([\n",
    "            torch.nn.Linear(self.fe_dim, aux_dim) for aux_dim in aux_class\n",
    "        ])\n",
    "\n",
    "    def forward(self, x):\n",
    "\n",
    "        batch_size,C,H,W = x.shape\n",
    "        x = (x - self.mean) / self.std\n",
    "\n",
    "        e = self.encoder.forward_features(x)\n",
    "        x = F.adaptive_avg_pool2d(e, 1)\n",
    "        x = torch.flatten(x,1,3)\n",
    "        cancer = self.cancer_layer(x).reshape(-1)\n",
    "\n",
    "        aux_pred = []\n",
    "        for layer in self.aux_layer:\n",
    "            aux_pred.append(layer(x))\n",
    "\n",
    "        return cancer, aux_pred\n",
    "\n",
    "model = kaggleBCModel(\n",
    "    aux_class=train_df[cfg.INPUT.AUX_TARGETS].max()+1,\n",
    "    cfg=cfg\n",
    ")"
   ]
  },
  {
   "cell_type": "code",
   "execution_count": 32,
   "metadata": {},
   "outputs": [],
   "source": [
    "model = model.to(cfg.DEVICE)"
   ]
  },
  {
   "cell_type": "code",
   "execution_count": 33,
   "metadata": {},
   "outputs": [
    {
     "data": {
      "text/plain": [
       "2048"
      ]
     },
     "execution_count": 33,
     "metadata": {},
     "output_type": "execute_result"
    }
   ],
   "source": [
    "model.encoder.fc.in_features"
   ]
  },
  {
   "cell_type": "code",
   "execution_count": 34,
   "metadata": {},
   "outputs": [
    {
     "ename": "KeyboardInterrupt",
     "evalue": "",
     "output_type": "error",
     "traceback": [
      "\u001b[0;31m---------------------------------------------------------------------------\u001b[0m",
      "\u001b[0;31mKeyboardInterrupt\u001b[0m                         Traceback (most recent call last)",
      "Cell \u001b[0;32mIn[34], line 4\u001b[0m\n\u001b[1;32m      1\u001b[0m \u001b[39mwith\u001b[39;00m torch\u001b[39m.\u001b[39mno_grad():\n\u001b[1;32m      3\u001b[0m     \u001b[39mfor\u001b[39;00m imgs, targets, _, _ \u001b[39min\u001b[39;00m train_loader:\n\u001b[0;32m----> 4\u001b[0m         imgs \u001b[39m=\u001b[39m imgs\u001b[39m.\u001b[39;49mfloat()\u001b[39m.\u001b[39;49mto(cfg\u001b[39m.\u001b[39;49mDEVICE)\n\u001b[1;32m      5\u001b[0m         model(imgs)\n",
      "\u001b[0;31mKeyboardInterrupt\u001b[0m: "
     ]
    },
    {
     "name": "stderr",
     "output_type": "stream",
     "text": [
      "Traceback (most recent call last):\n",
      "  File \"/usr/lib/python3.8/multiprocessing/queues.py\", line 245, in _feed\n",
      "    send_bytes(obj)\n",
      "  File \"/usr/lib/python3.8/multiprocessing/connection.py\", line 200, in send_bytes\n",
      "    self._send_bytes(m[offset:offset + size])\n",
      "  File \"/usr/lib/python3.8/multiprocessing/connection.py\", line 411, in _send_bytes\n",
      "    self._send(header + buf)\n",
      "  File \"/usr/lib/python3.8/multiprocessing/connection.py\", line 368, in _send\n",
      "    n = write(self._handle, buf)\n",
      "BrokenPipeError: [Errno 32] Broken pipe\n"
     ]
    }
   ],
   "source": [
    "with torch.no_grad():\n",
    "\n",
    "    for imgs, targets, _, _ in train_loader:\n",
    "        imgs = imgs.float().to(cfg.DEVICE)\n",
    "        model(imgs)"
   ]
  },
  {
   "cell_type": "code",
   "execution_count": null,
   "metadata": {},
   "outputs": [],
   "source": []
  }
 ],
 "metadata": {
  "kernelspec": {
   "display_name": "env",
   "language": "python",
   "name": "python3"
  },
  "language_info": {
   "codemirror_mode": {
    "name": "ipython",
    "version": 3
   },
   "file_extension": ".py",
   "mimetype": "text/x-python",
   "name": "python",
   "nbconvert_exporter": "python",
   "pygments_lexer": "ipython3",
   "version": "3.8.10"
  },
  "orig_nbformat": 4,
  "vscode": {
   "interpreter": {
    "hash": "a05816770b43371901bb922a80b85b44f534e84ff05a89061d13b20dd016dd4b"
   }
  }
 },
 "nbformat": 4,
 "nbformat_minor": 2
}
